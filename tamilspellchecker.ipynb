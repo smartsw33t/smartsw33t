{
  "nbformat": 4,
  "nbformat_minor": 0,
  "metadata": {
    "colab": {
      "name": "tamilspellchecker.ipynb",
      "provenance": [],
      "include_colab_link": true
    },
    "kernelspec": {
      "name": "python3",
      "display_name": "Python 3"
    }
  },
  "cells": [
    {
      "cell_type": "markdown",
      "metadata": {
        "id": "view-in-github",
        "colab_type": "text"
      },
      "source": [
        "<a href=\"https://colab.research.google.com/github/smartsw33t/smartsw33t/blob/main/tamilspellchecker.ipynb\" target=\"_parent\"><img src=\"https://colab.research.google.com/assets/colab-badge.svg\" alt=\"Open In Colab\"/></a>"
      ]
    },
    {
      "cell_type": "code",
      "metadata": {
        "colab": {
          "base_uri": "https://localhost:8080/"
        },
        "id": "lLir49bFz7cy",
        "outputId": "93a666a7-0ed2-41c5-c020-bc1e439ec66f"
      },
      "source": [
        "!pip install --upgrade tamilspellchecker"
      ],
      "execution_count": null,
      "outputs": [
        {
          "output_type": "stream",
          "text": [
            "Collecting tamilspellchecker\n",
            "\u001b[?25l  Downloading https://files.pythonhosted.org/packages/e8/3a/e8b1e700864c9633abec30117b8aaa7d9fe87c9a9303877aedf6b540f48e/tamilspellchecker-0.10.tar.gz (34.4MB)\n",
            "\u001b[K     |████████████████████████████████| 34.5MB 123kB/s \n",
            "\u001b[?25hCollecting open-tamil>=0.96\n",
            "\u001b[?25l  Downloading https://files.pythonhosted.org/packages/07/22/dd28eeda097930e56e94d5d520dd9bec469a8f708d4e90f0bd1739087da4/Open-Tamil-0.98.tar.gz (2.5MB)\n",
            "\u001b[K     |████████████████████████████████| 2.5MB 36.3MB/s \n",
            "\u001b[?25hCollecting bitarray>=1.2.2\n",
            "\u001b[?25l  Downloading https://files.pythonhosted.org/packages/79/e8/7c8fafd17338bd2efdde30376903d13859bfecc24d564a5c1538b3a09338/bitarray-1.6.1.tar.gz (55kB)\n",
            "\u001b[K     |████████████████████████████████| 61kB 5.8MB/s \n",
            "\u001b[?25hCollecting jellyfish>=0.7.2\n",
            "\u001b[?25l  Downloading https://files.pythonhosted.org/packages/6c/09/927ae35fc5a9f70abb6cc2c27ee88fc48549f7bc4786c1d4b177c22e997d/jellyfish-0.8.2-cp36-cp36m-manylinux2014_x86_64.whl (93kB)\n",
            "\u001b[K     |████████████████████████████████| 102kB 9.5MB/s \n",
            "\u001b[?25hCollecting mmh3>=2.5.1\n",
            "  Downloading https://files.pythonhosted.org/packages/fa/7e/3ddcab0a9fcea034212c02eb411433db9330e34d626360b97333368b4052/mmh3-2.5.1.tar.gz\n",
            "Requirement already satisfied, skipping upgrade: requests>=2.22.0 in /usr/local/lib/python3.6/dist-packages (from tamilspellchecker) (2.23.0)\n",
            "Collecting urllib3>=1.25.6\n",
            "\u001b[?25l  Downloading https://files.pythonhosted.org/packages/f5/71/45d36a8df68f3ebb098d6861b2c017f3d094538c0fb98fa61d4dc43e69b9/urllib3-1.26.2-py2.py3-none-any.whl (136kB)\n",
            "\u001b[K     |████████████████████████████████| 143kB 46.7MB/s \n",
            "\u001b[?25hRequirement already satisfied, skipping upgrade: certifi>=2017.4.17 in /usr/local/lib/python3.6/dist-packages (from requests>=2.22.0->tamilspellchecker) (2020.6.20)\n",
            "Requirement already satisfied, skipping upgrade: chardet<4,>=3.0.2 in /usr/local/lib/python3.6/dist-packages (from requests>=2.22.0->tamilspellchecker) (3.0.4)\n",
            "Requirement already satisfied, skipping upgrade: idna<3,>=2.5 in /usr/local/lib/python3.6/dist-packages (from requests>=2.22.0->tamilspellchecker) (2.10)\n",
            "Building wheels for collected packages: tamilspellchecker, open-tamil, bitarray, mmh3\n",
            "  Building wheel for tamilspellchecker (setup.py) ... \u001b[?25l\u001b[?25hdone\n",
            "  Created wheel for tamilspellchecker: filename=tamilspellchecker-0.10-cp36-none-any.whl size=36819020 sha256=2402dca4770e41f12cf5a91800f9e88756703922f89c1604ca2402cc414c4bd8\n",
            "  Stored in directory: /root/.cache/pip/wheels/4b/d0/71/4ce0fbb890ff98f0e90e8e39ccabbf86736e586dcdc19f084c\n",
            "  Building wheel for open-tamil (setup.py) ... \u001b[?25l\u001b[?25hdone\n",
            "  Created wheel for open-tamil: filename=Open_Tamil-0.98-cp36-none-any.whl size=2373926 sha256=b8ab3a9f0197d3b875ae8a40874db45c11b3505ddd0098f1566d838102d4bc5a\n",
            "  Stored in directory: /root/.cache/pip/wheels/96/5e/b9/eb096c355e774f06d2bbab2ae0dfdd8539905eeb71fd65cc0b\n",
            "  Building wheel for bitarray (setup.py) ... \u001b[?25l\u001b[?25hdone\n",
            "  Created wheel for bitarray: filename=bitarray-1.6.1-cp36-cp36m-linux_x86_64.whl size=111968 sha256=2f9e3ac8c4d9494cf08bd67b145863a1aa37eedc57e2f146353c53625e2fa5bf\n",
            "  Stored in directory: /root/.cache/pip/wheels/9a/aa/60/bc6e8aa0406e979931b75cfec65be58d051d2122d05efb4c65\n",
            "  Building wheel for mmh3 (setup.py) ... \u001b[?25l\u001b[?25hdone\n",
            "  Created wheel for mmh3: filename=mmh3-2.5.1-cp36-cp36m-linux_x86_64.whl size=37849 sha256=4ec189d6436677c4473a3ae046abe38055f1cbe22ca5f2f0b9b9e7157768694d\n",
            "  Stored in directory: /root/.cache/pip/wheels/38/b4/ea/6e4e321c625d3320c0c496bf4088371546d8fce5f1dd71b219\n",
            "Successfully built tamilspellchecker open-tamil bitarray mmh3\n",
            "\u001b[31mERROR: requests 2.23.0 has requirement urllib3!=1.25.0,!=1.25.1,<1.26,>=1.21.1, but you'll have urllib3 1.26.2 which is incompatible.\u001b[0m\n",
            "\u001b[31mERROR: datascience 0.10.6 has requirement folium==0.2.1, but you'll have folium 0.8.3 which is incompatible.\u001b[0m\n",
            "Installing collected packages: open-tamil, bitarray, jellyfish, mmh3, urllib3, tamilspellchecker\n",
            "  Found existing installation: urllib3 1.24.3\n",
            "    Uninstalling urllib3-1.24.3:\n",
            "      Successfully uninstalled urllib3-1.24.3\n",
            "Successfully installed bitarray-1.6.1 jellyfish-0.8.2 mmh3-2.5.1 open-tamil-0.98 tamilspellchecker-0.10 urllib3-1.26.2\n"
          ],
          "name": "stdout"
        }
      ]
    },
    {
      "cell_type": "code",
      "metadata": {
        "id": "ymQd0uk90BRc"
      },
      "source": [
        "from tamilspellchecker.TamilSpellingAutoCorrect import TamilSpellingAutoCorrect, get_data\n",
        "from pprint import pprint\n",
        "from tamil.utf8 import get_letters\n",
        "spellchecker = TamilSpellingAutoCorrect(get_data(\"tamil_bloom_filter.txt\"), get_data(\"tamilwordlist.txt\"))\n",
        "results = spellchecker.tamil_Norvig_correct_spelling(\"தமிழ்னாடு\",[4,6])"
      ],
      "execution_count": null,
      "outputs": []
    },
    {
      "cell_type": "code",
      "metadata": {
        "id": "LaHNP_9D0PHv",
        "outputId": "cbdf2513-1960-4903-d8e3-217d84c4b620",
        "colab": {
          "base_uri": "https://localhost:8080/"
        }
      },
      "source": [
        "results"
      ],
      "execution_count": null,
      "outputs": [
        {
          "output_type": "execute_result",
          "data": {
            "text/plain": [
              "['தமிழ்ஏடு',\n",
              " 'தகை்னாடு',\n",
              " 'தமிழ்விடு',\n",
              " 'தமிழ்மு',\n",
              " 'தன்னாடு',\n",
              " 'தமிழ்நாடு',\n",
              " 'தமிணனாடு',\n",
              " 'தமிழ்கொடு',\n",
              " 'தமிழ்கு',\n",
              " 'தமிழ்து',\n",
              " 'தமிழ்பு',\n",
              " 'தமிழ்பாடு',\n",
              " 'தமிழ்ன்',\n",
              " 'தமிழ்ப்',\n",
              " 'தமிழ்ச்',\n",
              " 'தமிழ்கொண்',\n",
              " 'தமிழ்ர்',\n",
              " 'தெழ்னாண்',\n",
              " 'தமிழ்த்',\n",
              " 'தமிழ்மண்',\n",
              " 'தன்னாண்',\n",
              " 'தமிழ்க்',\n",
              " 'தமிழ்ற்']"
            ]
          },
          "metadata": {
            "tags": []
          },
          "execution_count": 3
        }
      ]
    },
    {
      "cell_type": "code",
      "metadata": {
        "id": "2TTd1WBO0Q1t"
      },
      "source": [
        ""
      ],
      "execution_count": null,
      "outputs": []
    }
  ]
}